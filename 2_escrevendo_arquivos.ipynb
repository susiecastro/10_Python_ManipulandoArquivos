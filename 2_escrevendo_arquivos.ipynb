{
 "cells": [
  {
   "cell_type": "markdown",
   "metadata": {},
   "source": [
    "### Escrevendo arquivos TXT\n",
    "\n",
    "* para criar um arquivo utilizmos a função <font color='orang'>open()</font>\n",
    "* retorna um objeto do tipo <font color='orange'>_io.TextIOWrapper</font>\n",
    "* para criar um arquivo configuramos o parâmetro <font color='orange'>mode</font> com <font color='orange'>w</font>\n",
    "* para atualizar um arquivo configuramos o parâmetro <font color='orange'>mode</font> com <font color='orange'>a</font>\n",
    "* precisamos fechar o arquivo ao final de sua utilização\n",
    "* podemos utilizar <font color='orange'>with</font>para facilitar nossa vida"
   ]
  },
  {
   "cell_type": "markdown",
   "metadata": {},
   "source": [
    "### Função <font color='orange'>open()</font>"
   ]
  },
  {
   "cell_type": "code",
   "execution_count": 1,
   "metadata": {},
   "outputs": [],
   "source": [
    "# Criando um arquivo, o w depois do nome do oarquivo o mode.\n",
    "arquivo = open('2_write.txt','w')"
   ]
  },
  {
   "cell_type": "markdown",
   "metadata": {},
   "source": [
    "### Méotodo <font color='orange'>write()</font>"
   ]
  },
  {
   "cell_type": "code",
   "execution_count": 3,
   "metadata": {},
   "outputs": [
    {
     "data": {
      "text/plain": [
       "75"
      ]
     },
     "execution_count": 3,
     "metadata": {},
     "output_type": "execute_result"
    }
   ],
   "source": [
    "# Escrevendo uma frase no arquivo\n",
    "\n",
    "frase = 'Eu estou gostando de aprender a manipular arquivos com a linguagem Python.\\n'\n",
    "\n",
    "arquivo.write(frase)"
   ]
  },
  {
   "cell_type": "code",
   "execution_count": 4,
   "metadata": {},
   "outputs": [],
   "source": [
    "arquivo.close()"
   ]
  },
  {
   "cell_type": "code",
   "execution_count": 6,
   "metadata": {},
   "outputs": [],
   "source": [
    "# Caso queira abrir o arquivo e adiconar outra frase não executar o open com o mode w, se fizer isto o novo conteúdo sobrescreverá o novo arquivo"
   ]
  },
  {
   "cell_type": "markdown",
   "metadata": {},
   "source": [
    "### Função <font color='orange'>writelines()</font>"
   ]
  },
  {
   "cell_type": "code",
   "execution_count": 7,
   "metadata": {},
   "outputs": [],
   "source": [
    "arquivo = open('2_write.txt','w')"
   ]
  },
  {
   "cell_type": "code",
   "execution_count": 11,
   "metadata": {},
   "outputs": [],
   "source": [
    "# Escrevendo frases no aquivo.\n",
    "\n",
    "frases = ['Estou aprendendo a manipular arquivos com o Python.\\n', 'Estou ansiosa para aprendenr análise de dados com o Python.\\n','Quero concluir o Dominando Pyhton o quanto antes.\\n']\n",
    "\n",
    "arquivo.writelines(frases)"
   ]
  },
  {
   "cell_type": "code",
   "execution_count": 12,
   "metadata": {},
   "outputs": [],
   "source": [
    "arquivo.close()"
   ]
  },
  {
   "cell_type": "code",
   "execution_count": 14,
   "metadata": {},
   "outputs": [],
   "source": [
    "# adicionando texto em um arquivo já existente\n",
    "\n",
    "arquivo = open('2_write.txt','a')"
   ]
  },
  {
   "cell_type": "code",
   "execution_count": 15,
   "metadata": {},
   "outputs": [
    {
     "data": {
      "text/plain": [
       "61"
      ]
     },
     "execution_count": 15,
     "metadata": {},
     "output_type": "execute_result"
    }
   ],
   "source": [
    "arquivo.write('\\n\\nAprendendo a atualizar textos em arquivos .txt com Python.\\n')"
   ]
  },
  {
   "cell_type": "code",
   "execution_count": 16,
   "metadata": {},
   "outputs": [],
   "source": [
    "arquivo.close()"
   ]
  },
  {
   "cell_type": "markdown",
   "metadata": {},
   "source": [
    "### Utilizando <font color='orange'>with</font>\n"
   ]
  },
  {
   "cell_type": "code",
   "execution_count": 17,
   "metadata": {},
   "outputs": [],
   "source": [
    "# Criando arquivos com o with\n",
    "\n",
    "with open ('2_write2.txt','w') as arquivo:\n",
    "    arquivo.closed\n",
    "    arquivo.write('Escrevendo em um arquivo TXT utilizando o bloco WITH')"
   ]
  },
  {
   "cell_type": "code",
   "execution_count": 18,
   "metadata": {},
   "outputs": [
    {
     "data": {
      "text/plain": [
       "True"
      ]
     },
     "execution_count": 18,
     "metadata": {},
     "output_type": "execute_result"
    }
   ],
   "source": [
    "arquivo.closed"
   ]
  },
  {
   "cell_type": "code",
   "execution_count": null,
   "metadata": {},
   "outputs": [],
   "source": []
  }
 ],
 "metadata": {
  "kernelspec": {
   "display_name": "base",
   "language": "python",
   "name": "python3"
  },
  "language_info": {
   "codemirror_mode": {
    "name": "ipython",
    "version": 3
   },
   "file_extension": ".py",
   "mimetype": "text/x-python",
   "name": "python",
   "nbconvert_exporter": "python",
   "pygments_lexer": "ipython3",
   "version": "3.11.5"
  }
 },
 "nbformat": 4,
 "nbformat_minor": 2
}
