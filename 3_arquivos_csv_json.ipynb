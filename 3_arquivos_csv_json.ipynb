{
 "cells": [
  {
   "cell_type": "markdown",
   "metadata": {},
   "source": [
    "### Trabalhando com arquivos CSV\n",
    "\n",
    "* CSV - Comma Separated Values (valores separados por virgula)\n",
    "* podemos utilizar o módulo CSV para trabalhar com este tipo de arquivo\n",
    "    * retorna um objeto_csv.reader"
   ]
  },
  {
   "cell_type": "code",
   "execution_count": 2,
   "metadata": {},
   "outputs": [
    {
     "name": "stdout",
     "output_type": "stream",
     "text": [
      "josé;30\n",
      "gabriel;25\n",
      "lucas;15\n",
      "ana;45\n",
      "maria;60\n",
      "victor;70\n"
     ]
    }
   ],
   "source": [
    "# Importar assim, os dados serão carregados como uma string inteira\n",
    "with open ('3_dados.csv','r') as arquivo:\n",
    "    print(arquivo.read())\n",
    "    "
   ]
  },
  {
   "cell_type": "code",
   "execution_count": 6,
   "metadata": {},
   "outputs": [
    {
     "name": "stdout",
     "output_type": "stream",
     "text": [
      "<class '_csv.reader'>\n",
      "Nome: josé, idade: 30\n",
      "Nome: gabriel, idade: 25\n",
      "Nome: lucas, idade: 15\n",
      "Nome: ana, idade: 45\n",
      "Nome: maria, idade: 60\n",
      "Nome: victor, idade: 70\n"
     ]
    }
   ],
   "source": [
    "# Maneira ideal de importar CSV\n",
    "\n",
    "import csv\n",
    "\n",
    "with open('3_dados.csv') as arquivo:\n",
    "    # no método reader do módulo csv colocar o delimitador do arquivo\n",
    "    arquivo_csv = csv.reader(arquivo, delimiter=';')\n",
    "    print(type(arquivo_csv))\n",
    "\n",
    "    for dado in arquivo_csv:\n",
    "        print(f'Nome: {dado[0]}, idade: {dado[1]}')"
   ]
  },
  {
   "cell_type": "markdown",
   "metadata": {},
   "source": [
    "### Trabalhando com arquivos JSON\n",
    "\n",
    "* Json - JavaScript Object Notation\n",
    "* Formato padrão para troca de mensagens entre sistemas Web\n",
    "* muito utilizado em bancos de dados não relacionais\n",
    "* podemos utilizar o módulo JSON para trabalhar com esse tipo de arquivo\n",
    "    * retorna uma lista"
   ]
  },
  {
   "cell_type": "code",
   "execution_count": 8,
   "metadata": {},
   "outputs": [
    {
     "name": "stdout",
     "output_type": "stream",
     "text": [
      "[\n",
      "    {\n",
      "        \"nome\":\"josé\",\n",
      "        \"idade\": 30\n",
      "    },\n",
      "    {\n",
      "        \"nome\":\"gabriel\",\n",
      "        \"idade\": 25\n",
      "    },\n",
      "    {\n",
      "        \"nome\":\"lucas\",\n",
      "        \"idade\": 15\n",
      "    },\n",
      "    {\n",
      "        \"nome\": \"ana\",\n",
      "        \"idade\": 45\n",
      "    },\n",
      "    {\n",
      "        \"nome\":\"maria\",\n",
      "        \"idade\": 60\n",
      "    },\n",
      "    {\n",
      "        \"nome\": \"victor\",\n",
      "        \"idade\": 70\n",
      "    }\n",
      "]\n"
     ]
    }
   ],
   "source": [
    "#assim importará todos os dados juntos\n",
    "with open('3_dados.json','r') as arquivo:\n",
    "    print(arquivo.read())"
   ]
  },
  {
   "cell_type": "code",
   "execution_count": 9,
   "metadata": {},
   "outputs": [
    {
     "name": "stdout",
     "output_type": "stream",
     "text": [
      "[{'nome': 'josé', 'idade': 30}, {'nome': 'gabriel', 'idade': 25}, {'nome': 'lucas', 'idade': 15}, {'nome': 'ana', 'idade': 45}, {'nome': 'maria', 'idade': 60}, {'nome': 'victor', 'idade': 70}]\n"
     ]
    }
   ],
   "source": [
    "# assim os dados serão importados separadamente, fácil de manipular\n",
    "\n",
    "import json\n",
    "\n",
    "with open('3_dados.json','r') as arquivo:\n",
    "    arquivo_json = json.load(arquivo)\n",
    "    print(arquivo_json)\n"
   ]
  },
  {
   "cell_type": "code",
   "execution_count": 11,
   "metadata": {},
   "outputs": [
    {
     "name": "stdout",
     "output_type": "stream",
     "text": [
      "Nome: josé Idade: 30\n",
      "Nome: gabriel Idade: 25\n",
      "Nome: lucas Idade: 15\n",
      "Nome: ana Idade: 45\n",
      "Nome: maria Idade: 60\n",
      "Nome: victor Idade: 70\n"
     ]
    }
   ],
   "source": [
    "import json\n",
    "\n",
    "with open('3_dados.json','r') as arquivo:\n",
    "    arquivo_json = json.load(arquivo)\n",
    "   \n",
    "    for dado in arquivo_json:\n",
    "        print(f\"Nome: {dado['nome']} Idade: {dado['idade']}\")"
   ]
  },
  {
   "cell_type": "code",
   "execution_count": null,
   "metadata": {},
   "outputs": [],
   "source": []
  }
 ],
 "metadata": {
  "kernelspec": {
   "display_name": "base",
   "language": "python",
   "name": "python3"
  },
  "language_info": {
   "codemirror_mode": {
    "name": "ipython",
    "version": 3
   },
   "file_extension": ".py",
   "mimetype": "text/x-python",
   "name": "python",
   "nbconvert_exporter": "python",
   "pygments_lexer": "ipython3",
   "version": "3.11.5"
  }
 },
 "nbformat": 4,
 "nbformat_minor": 2
}
